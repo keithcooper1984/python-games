{
 "cells": [
  {
   "cell_type": "code",
   "execution_count": null,
   "metadata": {},
   "outputs": [],
   "source": [
    "#this is my first ever program so i am sure there are improvements but it does work so i am proud\n",
    "\n",
    "import random\n",
    "\n",
    "x = random.randint(1,3)\n",
    "c = input()\n",
    "z = c.upper()\n",
    "\n",
    "print (\"You pick.....\",z)\n",
    "\n",
    "\n",
    "if x == 1:\n",
    "    y = (\"ROCK\")\n",
    "elif x == 2:\n",
    "    y = (\"PAPER\")\n",
    "elif x == 3:\n",
    "    y = (\"SCISSORS\")\n",
    "\n",
    "print (\"I pick.....\", y)\n",
    "\n",
    "if z == y:\n",
    "    print (\"It's' a draw\")\n",
    "elif z == \"ROCK\" and x == 2:\n",
    "    print (\"You lose\")\n",
    "elif z == \"ROCK\" and x == 3:\n",
    "    print (\"You win!\")\n",
    "elif z == \"PAPER\" and x == 1:\n",
    "    print (\"You win!\")\n",
    "elif z == \"PAPER\" and x == 3:\n",
    "    print (\"You lose\")\n",
    "elif z == \"SCISSORS\" and x == 1:\n",
    "    print (\"You lose\")\n",
    "elif z == \"SCISSORS\" and x == 2:\n",
    "    print (\"You win!\")\n",
    "else:\n",
    "    print (\"I don't understand\")"
   ]
  }
 ],
 "metadata": {
  "kernelspec": {
   "display_name": "Python 3",
   "language": "python",
   "name": "python3"
  },
  "language_info": {
   "codemirror_mode": {
    "name": "ipython",
    "version": 3
   },
   "file_extension": ".py",
   "mimetype": "text/x-python",
   "name": "python",
   "nbconvert_exporter": "python",
   "pygments_lexer": "ipython3",
   "version": "3.8.3"
  }
 },
 "nbformat": 4,
 "nbformat_minor": 4
}
